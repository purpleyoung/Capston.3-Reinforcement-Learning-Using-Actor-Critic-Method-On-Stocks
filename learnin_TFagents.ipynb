{
 "cells": [
  {
   "cell_type": "code",
   "execution_count": 1,
   "id": "tight-prospect",
   "metadata": {},
   "outputs": [],
   "source": [
    "# imports"
   ]
  },
  {
   "cell_type": "code",
   "execution_count": 3,
   "id": "precise-activation",
   "metadata": {},
   "outputs": [],
   "source": [
    "from __future__ import absolute_import, division, print_function\n",
    "\n",
    "#video output codecs\n",
    "import base64\n",
    "#for rendering\n",
    "import imageio\n",
    "import IPython\n",
    "import matplotlib\n",
    "import matplotlib.pyplot as plt\n",
    "import numpy as np\n",
    "import PIL.Image\n",
    "import pyvirtualdisplay\n",
    "import tensorflow as tf\n",
    "\n",
    "from tf_agents.agents.dqn import dqn_agent\n",
    "from tf_agents.drivers import dynamic_step_driver\n",
    "from tf_agents.environments import suite_gym\n",
    "from tf_agents.environments import tf_py_environment\n",
    "from tf_agents.eval import metric_utils\n",
    "from tf_agents.metrics import tf_metrics\n",
    "# first example makes a Q-net sequentially, 2nd imports it as class\n",
    "from tf_agents.networks import sequential\n",
    "# from tf_agents.networks.q_network import QNetwork\n",
    "from tf_agents.policies import random_tf_policy\n",
    "# the second goes a deep deeper with its buffer import\n",
    "from tf_agents.replay_buffers import tf_uniform_replay_buffer\n",
    "# from tf_agents.replay_buffers.tf_uniform_replay_buffer import TFUniformReplayBuffer\n",
    "from tf_agents.trajectories import trajectory\n",
    "# 2nd doesn't import this (tensor_spec), we make manually?\n",
    "from tf_agents.specs import tensor_spec\n",
    "from tf_agents.utils import common"
   ]
  },
  {
   "cell_type": "code",
   "execution_count": null,
   "id": "possible-packaging",
   "metadata": {},
   "outputs": [],
   "source": []
  },
  {
   "cell_type": "code",
   "execution_count": 3,
   "id": "twenty-values",
   "metadata": {},
   "outputs": [],
   "source": [
    "# Set up a virtual display for rendering OpenAI gym environments.\n",
    "display = pyvirtualdisplay.Display(visible=0, size=(1400, 900)).start()\n",
    "\n"
   ]
  },
  {
   "cell_type": "code",
   "execution_count": 4,
   "id": "included-jenny",
   "metadata": {},
   "outputs": [],
   "source": [
    "### Hyperparameters"
   ]
  },
  {
   "cell_type": "code",
   "execution_count": 5,
   "id": "suspended-adolescent",
   "metadata": {},
   "outputs": [],
   "source": [
    "num_iterations = 20000 # @param {type:\"integer\"}\n",
    "collect_steps_per_iteration = 1  # @param {type:\"integer\"}\n",
    "batch_size = 64  # @param {type:\"integer\"}\n",
    "num_eval_episodes = 10  # @param {type:\"integer\"}\n",
    "eval_interval = 1000  # @param {type:\"integer\"}\n",
    "\n",
    "\n",
    "initial_collect_steps = 100  # @param {type:\"integer\"} \n",
    "replay_buffer_max_length = 100000  # @param {type:\"integer\"}\n",
    "# i like having access to this one\n",
    "learning_rate = 1e-3  # @param {type:\"number\"}\n",
    "log_interval = 200  # @param {type:\"integer\"}\n",
    "\n",
    "\n"
   ]
  },
  {
   "cell_type": "code",
   "execution_count": 6,
   "id": "mental-journal",
   "metadata": {},
   "outputs": [],
   "source": [
    "### Environment: Dummies"
   ]
  },
  {
   "cell_type": "code",
   "execution_count": 44,
   "id": "pregnant-bonus",
   "metadata": {},
   "outputs": [],
   "source": [
    "## his section is making dummies and showin what's inside them\n",
    "\n",
    "env_name = 'CartPole-v0'\n",
    "env = suite_gym.load(env_name)"
   ]
  },
  {
   "cell_type": "code",
   "execution_count": 45,
   "id": "awful-julian",
   "metadata": {},
   "outputs": [
    {
     "data": {
      "image/png": "[encoded data removed]",
      "text/plain": [
       "<PIL.Image.Image image mode=RGB size=600x400 at 0x7F1CF9E23190>"
      ]
     },
     "execution_count": 45,
     "metadata": {},
     "output_type": "execute_result"
    }
   ],
   "source": [
    "# env preview\n",
    "#@test {\"skip\": true}\n",
    "env.reset()\n",
    "PIL.Image.fromarray(env.render())"
   ]
  },
  {
   "cell_type": "code",
   "execution_count": 46,
   "id": "hungarian-lightweight",
   "metadata": {},
   "outputs": [
    {
     "name": "stdout",
     "output_type": "stream",
     "text": [
      "Observation Spec:\n",
      "BoundedArraySpec(shape=(4,), dtype=dtype('float32'), name='observation', minimum=[-4.8000002e+00 -3.4028235e+38 -4.1887903e-01 -3.4028235e+38], maximum=[4.8000002e+00 3.4028235e+38 4.1887903e-01 3.4028235e+38])\n"
     ]
    }
   ],
   "source": [
    "print('Observation Spec:')\n",
    "print(env.time_step_spec().observation)"
   ]
  },
  {
   "cell_type": "code",
   "execution_count": 47,
   "id": "efficient-character",
   "metadata": {},
   "outputs": [
    {
     "name": "stdout",
     "output_type": "stream",
     "text": [
      "Reward Spec:\n",
      "ArraySpec(shape=(), dtype=dtype('float32'), name='reward')\n"
     ]
    }
   ],
   "source": [
    "print('Reward Spec:')\n",
    "print(env.time_step_spec().reward)"
   ]
  },
  {
   "cell_type": "code",
   "execution_count": 48,
   "id": "little-guatemala",
   "metadata": {},
   "outputs": [
    {
     "name": "stdout",
     "output_type": "stream",
     "text": [
      "Action Spec:\n",
      "BoundedArraySpec(shape=(), dtype=dtype('int64'), name='action', minimum=0, maximum=1)\n"
     ]
    }
   ],
   "source": [
    "# action_spec() returns shape, dtype, name, and min/max values for actions\n",
    "print('Action Spec:')\n",
    "print(env.action_spec())"
   ]
  },
  {
   "cell_type": "code",
   "execution_count": 49,
   "id": "careful-cameroon",
   "metadata": {},
   "outputs": [
    {
     "name": "stdout",
     "output_type": "stream",
     "text": [
      "Time step:\n",
      "TimeStep(step_type=array(0, dtype=int32), reward=array(0., dtype=float32), discount=array(1., dtype=float32), observation=array([ 0.01261075, -0.00798793,  0.00633951, -0.04731778], dtype=float32))\n",
      "Next time step:\n",
      "TimeStep(step_type=array(1, dtype=int32), reward=array(1., dtype=float32), discount=array(1., dtype=float32), observation=array([ 0.01245099,  0.18704255,  0.00539316, -0.3379938 ], dtype=float32))\n"
     ]
    }
   ],
   "source": [
    "time_step = env.reset()\n",
    "print('Time step:')\n",
    "print(time_step)\n",
    "\n",
    "action = np.array(1, dtype=np.int32)\n",
    "\n",
    "next_time_step = env.step(action)\n",
    "print('Next time step:')\n",
    "print(next_time_step)"
   ]
  },
  {
   "cell_type": "code",
   "execution_count": 50,
   "id": "unsigned-insert",
   "metadata": {},
   "outputs": [],
   "source": [
    "### Environment: Actual"
   ]
  },
  {
   "cell_type": "code",
   "execution_count": 51,
   "id": "worse-aruba",
   "metadata": {},
   "outputs": [],
   "source": [
    "# loading the enviro again as train and eval environments"
   ]
  },
  {
   "cell_type": "code",
   "execution_count": 52,
   "id": "inclusive-branch",
   "metadata": {},
   "outputs": [],
   "source": [
    "train_py_env = suite_gym.load(env_name)\n",
    "eval_py_env = suite_gym.load(env_name)"
   ]
  },
  {
   "cell_type": "code",
   "execution_count": 53,
   "id": "institutional-right",
   "metadata": {},
   "outputs": [],
   "source": [
    "# using the TF enviro wrapper to conver enviro's np arrays to tensors/"
   ]
  },
  {
   "cell_type": "code",
   "execution_count": 54,
   "id": "distinct-scope",
   "metadata": {},
   "outputs": [],
   "source": [
    "train_env = tf_py_environment.TFPyEnvironment(train_py_env)\n",
    "eval_env = tf_py_environment.TFPyEnvironment(eval_py_env)"
   ]
  },
  {
   "cell_type": "code",
   "execution_count": 55,
   "id": "documented-punch",
   "metadata": {},
   "outputs": [],
   "source": [
    "### Agent: Crafting Q-Network"
   ]
  },
  {
   "cell_type": "code",
   "execution_count": 56,
   "id": "incorrect-showcase",
   "metadata": {},
   "outputs": [],
   "source": [
    "fc_layer_params = (100, 50)\n",
    "action_tensor_spec = tensor_spec.from_spec(env.action_spec())\n",
    "num_actions = action_tensor_spec.maximum - action_tensor_spec.minimum + 1\n",
    "\n",
    "# Define a helper function to create Dense layers configured with the right\n",
    "# activation and kernel initializer.\n",
    "def dense_layer(num_units):\n",
    "    return tf.keras.layers.Dense(\n",
    "      num_units,\n",
    "      activation=tf.keras.activations.relu,\n",
    "      kernel_initializer=tf.keras.initializers.VarianceScaling(\n",
    "          scale=2.0, mode='fan_in', distribution='truncated_normal'))\n",
    "\n",
    "# QNetwork consists of a sequence of Dense layers followed by a dense layer\n",
    "# with `num_actions` units to generate one q_value per available action as\n",
    "# it's output.\n",
    "dense_layers = [dense_layer(num_units) for num_units in fc_layer_params]\n",
    "q_values_layer = tf.keras.layers.Dense(\n",
    "    num_actions,\n",
    "    activation=None,\n",
    "    kernel_initializer=tf.keras.initializers.RandomUniform(\n",
    "        minval=-0.03, maxval=0.03),\n",
    "    bias_initializer=tf.keras.initializers.Constant(-0.2))\n",
    "q_net = sequential.Sequential(dense_layers + [q_values_layer])"
   ]
  },
  {
   "cell_type": "code",
   "execution_count": 57,
   "id": "czech-parliament",
   "metadata": {},
   "outputs": [],
   "source": [
    "### Agent: Init"
   ]
  },
  {
   "cell_type": "code",
   "execution_count": 58,
   "id": "banned-meditation",
   "metadata": {},
   "outputs": [],
   "source": [
    "optimizer = tf.keras.optimizers.Adam(learning_rate=learning_rate)\n",
    "\n",
    "train_step_counter = tf.Variable(0)\n",
    "\n",
    "agent = dqn_agent.DqnAgent(\n",
    "    train_env.time_step_spec(),\n",
    "    train_env.action_spec(),\n",
    "    q_network=q_net,\n",
    "    optimizer=optimizer,\n",
    "    td_errors_loss_fn=common.element_wise_squared_loss,\n",
    "    train_step_counter=train_step_counter)\n",
    "\n",
    "agent.initialize()\n",
    "\n"
   ]
  },
  {
   "cell_type": "code",
   "execution_count": 59,
   "id": "equivalent-archive",
   "metadata": {},
   "outputs": [],
   "source": [
    "### Policy"
   ]
  },
  {
   "cell_type": "code",
   "execution_count": 60,
   "id": "false-circus",
   "metadata": {},
   "outputs": [],
   "source": [
    "# primary policy fr eval and deployment\n",
    "eval_policy = agent.policy\n",
    "# another policy, used for collecting (observations?)\n",
    "collect_policy = agent.collect_policy"
   ]
  },
  {
   "cell_type": "code",
   "execution_count": null,
   "id": "cheap-labor",
   "metadata": {},
   "outputs": [],
   "source": []
  },
  {
   "cell_type": "code",
   "execution_count": 61,
   "id": "steady-scene",
   "metadata": {},
   "outputs": [],
   "source": [
    "# below is an example of a policy made outside of an agent.\n",
    "# it performs a random action with each step\n",
    "random_policy = random_tf_policy.RandomTFPolicy(train_env.time_step_spec(),\n",
    "                                                train_env.action_spec())\n"
   ]
  },
  {
   "cell_type": "code",
   "execution_count": null,
   "id": "electoral-junction",
   "metadata": {},
   "outputs": [],
   "source": []
  },
  {
   "cell_type": "code",
   "execution_count": null,
   "id": "independent-wireless",
   "metadata": {},
   "outputs": [],
   "source": []
  },
  {
   "cell_type": "code",
   "execution_count": null,
   "id": "hungry-affair",
   "metadata": {},
   "outputs": [],
   "source": []
  },
  {
   "cell_type": "code",
   "execution_count": 62,
   "id": "fatty-enemy",
   "metadata": {},
   "outputs": [
    {
     "data": {
      "text/plain": [
       "PolicyStep(action=<tf.Tensor: shape=(1,), dtype=int64, numpy=array([0])>, state=(), info=())"
      ]
     },
     "execution_count": 62,
     "metadata": {},
     "output_type": "execute_result"
    }
   ],
   "source": [
    "# we need this for the above\n",
    "example_environment = tf_py_environment.TFPyEnvironment(\n",
    "    suite_gym.load('CartPole-v0'))\n",
    "\n",
    "# this returns a policy step, a named tuple with three components:\n",
    "# action (the one to be taken)\n",
    "# state (could be used for stateful policies\n",
    "# info (could be a log)\n",
    "time_step = example_environment.reset()\n",
    "\n",
    "# use to get an action from example policy\n",
    "random_policy.action(time_step)"
   ]
  },
  {
   "cell_type": "code",
   "execution_count": 63,
   "id": "designed-florence",
   "metadata": {},
   "outputs": [],
   "source": [
    "### Evaluation Metrics\n",
    "# A common metric for evaluating a policy is it's average reward\n",
    "# several episodes are run, yielding an average\n",
    "\n",
    "#@test {\"skip\": true}\n",
    "def compute_avg_return(environment, policy, num_episodes=10):\n",
    "\n",
    "    total_return = 0.0\n",
    "    for _ in range(num_episodes):\n",
    "\n",
    "        time_step = environment.reset()\n",
    "        episode_return = 0.0\n",
    "        \n",
    "        # runs until out of steps\n",
    "        while not time_step.is_last():\n",
    "            action_step = policy.action(time_step)\n",
    "            time_step = environment.step(action_step.action)\n",
    "            episode_return += time_step.reward\n",
    "        total_return += episode_return\n",
    "\n",
    "    avg_return = total_return / num_episodes\n",
    "    return avg_return.numpy()[0]\n",
    "\n",
    "\n",
    "# See also the metrics module for standard implementations of different metrics.\n",
    "# https://github.com/tensorflow/agents/tree/master/tf_agents/metrics\n",
    "\n"
   ]
  },
  {
   "cell_type": "code",
   "execution_count": 64,
   "id": "lucky-robin",
   "metadata": {},
   "outputs": [
    {
     "data": {
      "text/plain": [
       "20.8"
      ]
     },
     "execution_count": 64,
     "metadata": {},
     "output_type": "execute_result"
    }
   ],
   "source": [
    "# lets's run this on the random policy we made earlier.\n",
    "# This provides a baseline of performance in this enviro\n",
    "# given the hyperperameters\n",
    "compute_avg_return(eval_env, random_policy, num_eval_episodes)"
   ]
  },
  {
   "cell_type": "code",
   "execution_count": 65,
   "id": "legal-fantasy",
   "metadata": {},
   "outputs": [],
   "source": [
    "### Replay Buffer!"
   ]
  },
  {
   "cell_type": "code",
   "execution_count": 66,
   "id": "generous-johnston",
   "metadata": {},
   "outputs": [],
   "source": [
    "# holds data collected from enviro (obs?)\n",
    "replay_buffer = tf_uniform_replay_buffer.TFUniformReplayBuffer(\n",
    "    # specs for the data\n",
    "    data_spec=agent.collect_data_spec,\n",
    "    # HYPERPARAMETER\n",
    "    batch_size=train_env.batch_size,\n",
    "    # HYPERPARAMETER\n",
    "    max_length=replay_buffer_max_length)"
   ]
  },
  {
   "cell_type": "code",
   "execution_count": 67,
   "id": "applied-driving",
   "metadata": {},
   "outputs": [
    {
     "data": {
      "text/plain": [
       "Trajectory(step_type=TensorSpec(shape=(), dtype=tf.int32, name='step_type'), observation=BoundedTensorSpec(shape=(4,), dtype=tf.float32, name='observation', minimum=array([-4.8000002e+00, -3.4028235e+38, -4.1887903e-01, -3.4028235e+38],\n",
       "      dtype=float32), maximum=array([4.8000002e+00, 3.4028235e+38, 4.1887903e-01, 3.4028235e+38],\n",
       "      dtype=float32)), action=BoundedTensorSpec(shape=(), dtype=tf.int64, name='action', minimum=array(0), maximum=array(1)), policy_info=(), next_step_type=TensorSpec(shape=(), dtype=tf.int32, name='step_type'), reward=TensorSpec(shape=(), dtype=tf.float32, name='reward'), discount=BoundedTensorSpec(shape=(), dtype=tf.float32, name='discount', minimum=array(0., dtype=float32), maximum=array(1., dtype=float32)))"
      ]
     },
     "execution_count": 67,
     "metadata": {},
     "output_type": "execute_result"
    }
   ],
   "source": [
    "agent.collect_data_spec"
   ]
  },
  {
   "cell_type": "code",
   "execution_count": 29,
   "id": "earlier-shoulder",
   "metadata": {},
   "outputs": [
    {
     "data": {
      "text/plain": [
       "('step_type',\n",
       " 'observation',\n",
       " 'action',\n",
       " 'policy_info',\n",
       " 'next_step_type',\n",
       " 'reward',\n",
       " 'discount')"
      ]
     },
     "execution_count": 29,
     "metadata": {},
     "output_type": "execute_result"
    }
   ],
   "source": [
    "agent.collect_data_spec._fields"
   ]
  },
  {
   "cell_type": "code",
   "execution_count": 30,
   "id": "headed-layout",
   "metadata": {},
   "outputs": [],
   "source": [
    "### Collecting Data"
   ]
  },
  {
   "cell_type": "code",
   "execution_count": 31,
   "id": "corresponding-shelf",
   "metadata": {},
   "outputs": [],
   "source": [
    "# the below is a very common function in RL.\n",
    "# what's going on is recording the data into the replay buffer\n",
    "\n",
    "#@test {\"skip\": true}\n",
    "def collect_step(environment, policy, buffer):\n",
    "    time_step = environment.current_time_step()\n",
    "    action_step = policy.action(time_step)\n",
    "    next_time_step = environment.step(action_step.action)\n",
    "    traj = trajectory.from_transition(time_step, action_step, next_time_step)\n",
    "\n",
    "    # Add trajectory to the replay buffer\n",
    "    buffer.add_batch(traj)\n",
    "\n",
    "def collect_data(env, policy, buffer, steps):\n",
    "    for _ in range(steps):\n",
    "        collect_step(env, policy, buffer)\n",
    "\n",
    "collect_data(train_env, random_policy, replay_buffer, initial_collect_steps)\n",
    "\n",
    "# This loop is so common in RL, that we provide standard implementations. \n",
    "# For more details see the drivers module.\n",
    "# https://www.tensorflow.org/agents/api_docs/python/tf_agents/drivers"
   ]
  },
  {
   "cell_type": "code",
   "execution_count": null,
   "id": "tracked-launch",
   "metadata": {},
   "outputs": [],
   "source": []
  },
  {
   "cell_type": "code",
   "execution_count": null,
   "id": "vocal-matthew",
   "metadata": {},
   "outputs": [],
   "source": []
  },
  {
   "cell_type": "code",
   "execution_count": null,
   "id": "changing-aerospace",
   "metadata": {},
   "outputs": [],
   "source": []
  },
  {
   "cell_type": "code",
   "execution_count": 32,
   "id": "purple-poster",
   "metadata": {},
   "outputs": [
    {
     "name": "stdout",
     "output_type": "stream",
     "text": [
      "WARNING:tensorflow:From /home/kenji/.local/lib/python3.8/site-packages/tensorflow/python/autograph/operators/control_flow.py:1218: ReplayBuffer.get_next (from tf_agents.replay_buffers.replay_buffer) is deprecated and will be removed in a future version.\n",
      "Instructions for updating:\n",
      "Use `as_dataset(..., single_deterministic_pass=False) instead.\n"
     ]
    },
    {
     "data": {
      "text/plain": [
       "<PrefetchDataset shapes: (Trajectory(step_type=(64, 2), observation=(64, 2, 4), action=(64, 2), policy_info=(), next_step_type=(64, 2), reward=(64, 2), discount=(64, 2)), BufferInfo(ids=(64, 2), probabilities=(64,))), types: (Trajectory(step_type=tf.int32, observation=tf.float32, action=tf.int64, policy_info=(), next_step_type=tf.int32, reward=tf.float32, discount=tf.float32), BufferInfo(ids=tf.int64, probabilities=tf.float32))>"
      ]
     },
     "execution_count": 32,
     "metadata": {},
     "output_type": "execute_result"
    }
   ],
   "source": [
    "# Dataset generates trajectories with shape [Bx2x...]\n",
    "# Ok, so this is creating a pipelie for feeding the buffer to the agent.\n",
    "# we call it dataset, set it up, and then set it to be iterable (next celL)\n",
    "# parralel calls and prefetch are optimizatons but idky\n",
    "dataset = replay_buffer.as_dataset(\n",
    "    num_parallel_calls=3, \n",
    "    sample_batch_size=batch_size, \n",
    "    num_steps=2).prefetch(3)\n",
    "\n",
    "\n",
    "dataset"
   ]
  },
  {
   "cell_type": "code",
   "execution_count": 33,
   "id": "reduced-benjamin",
   "metadata": {},
   "outputs": [
    {
     "name": "stdout",
     "output_type": "stream",
     "text": [
      "<tensorflow.python.data.ops.iterator_ops.OwnedIterator object at 0x7f87f8637fa0>\n"
     ]
    }
   ],
   "source": [
    "iterator = iter(dataset)\n",
    "print(iterator)"
   ]
  },
  {
   "cell_type": "code",
   "execution_count": null,
   "id": "automated-tourist",
   "metadata": {},
   "outputs": [],
   "source": []
  },
  {
   "cell_type": "code",
   "execution_count": 34,
   "id": "solved-bangkok",
   "metadata": {},
   "outputs": [],
   "source": [
    "### Training!\n",
    "# in this step we must:\n",
    "#- collect enviro data (obs?)\n",
    "#- use that data to train the agents network"
   ]
  },
  {
   "cell_type": "code",
   "execution_count": 35,
   "id": "protective-filling",
   "metadata": {},
   "outputs": [
    {
     "name": "stdout",
     "output_type": "stream",
     "text": [
      "WARNING:tensorflow:From /home/kenji/.local/lib/python3.8/site-packages/tensorflow/python/util/dispatch.py:201: calling foldr_v2 (from tensorflow.python.ops.functional_ops) with back_prop=False is deprecated and will be removed in a future version.\n",
      "Instructions for updating:\n",
      "back_prop=False is deprecated. Consider using tf.stop_gradient instead.\n",
      "Instead of:\n",
      "results = tf.foldr(fn, elems, back_prop=False)\n",
      "Use:\n",
      "results = tf.nest.map_structure(tf.stop_gradient, tf.foldr(fn, elems))\n",
      "step = 200: loss = 20.91445541381836\n",
      "step = 400: loss = 39.82884979248047\n",
      "step = 600: loss = 109.21662139892578\n",
      "step = 800: loss = 193.18496704101562\n",
      "step = 1000: loss = 64.25777435302734\n",
      "step = 1000: Average Return = 115.4000015258789\n",
      "step = 1200: loss = 222.72837829589844\n",
      "step = 1400: loss = 210.58364868164062\n",
      "step = 1600: loss = 497.4881286621094\n",
      "step = 1800: loss = 1555.8822021484375\n",
      "step = 2000: loss = 1601.3336181640625\n",
      "step = 2000: Average Return = 30.899999618530273\n",
      "step = 2200: loss = 6369.9072265625\n",
      "step = 2400: loss = 165.74044799804688\n",
      "step = 2600: loss = 220.73358154296875\n",
      "step = 2800: loss = 86.98974609375\n",
      "step = 3000: loss = 65.39216613769531\n",
      "step = 3000: Average Return = 36.70000076293945\n",
      "step = 3200: loss = 65.44361114501953\n",
      "step = 3400: loss = 39.658355712890625\n",
      "step = 3600: loss = 18.20189666748047\n",
      "step = 3800: loss = 25.962886810302734\n",
      "step = 4000: loss = 46.07014465332031\n",
      "step = 4000: Average Return = 177.6999969482422\n",
      "step = 4200: loss = 28.718229293823242\n",
      "step = 4400: loss = 59.47871017456055\n",
      "step = 4600: loss = 90.08379364013672\n",
      "step = 4800: loss = 204.23956298828125\n",
      "step = 5000: loss = 18.194412231445312\n",
      "step = 5000: Average Return = 200.0\n",
      "step = 5200: loss = 36.70267868041992\n",
      "step = 5400: loss = 41.45021438598633\n",
      "step = 5600: loss = 139.79684448242188\n",
      "step = 5800: loss = 31.79466438293457\n",
      "step = 6000: loss = 24.863941192626953\n",
      "step = 6000: Average Return = 178.8000030517578\n",
      "step = 6200: loss = 223.0467071533203\n",
      "step = 6400: loss = 44.37779998779297\n",
      "step = 6600: loss = 149.19229125976562\n",
      "step = 6800: loss = 70.08699035644531\n",
      "step = 7000: loss = 145.57814025878906\n",
      "step = 7000: Average Return = 200.0\n",
      "step = 7200: loss = 221.05992126464844\n",
      "step = 7400: loss = 313.8087158203125\n",
      "step = 7600: loss = 1040.3770751953125\n",
      "step = 7800: loss = 1691.696044921875\n",
      "step = 8000: loss = 702.2787475585938\n",
      "step = 8000: Average Return = 200.0\n",
      "step = 8200: loss = 1068.059326171875\n",
      "step = 8400: loss = 1139.0008544921875\n",
      "step = 8600: loss = 2060.73583984375\n",
      "step = 8800: loss = 16155.86328125\n",
      "step = 9000: loss = 7610.515625\n",
      "step = 9000: Average Return = 200.0\n",
      "step = 9200: loss = 26210.44921875\n",
      "step = 9400: loss = 8599.9443359375\n",
      "step = 9600: loss = 8075.01953125\n",
      "step = 9800: loss = 17790.09375\n",
      "step = 10000: loss = 46342.40625\n",
      "step = 10000: Average Return = 199.60000610351562\n",
      "step = 10200: loss = 2002388.75\n",
      "step = 10400: loss = 44676.23046875\n",
      "step = 10600: loss = 478954.03125\n",
      "step = 10800: loss = 49639.1953125\n",
      "step = 11000: loss = 77295.0703125\n",
      "step = 11000: Average Return = 200.0\n",
      "step = 11200: loss = 92088.2265625\n",
      "step = 11400: loss = 125882.125\n",
      "step = 11600: loss = 265334.65625\n",
      "step = 11800: loss = 197328.5625\n",
      "step = 12000: loss = 691675.6875\n",
      "step = 12000: Average Return = 200.0\n",
      "step = 12200: loss = 3631509.0\n",
      "step = 12400: loss = 9371216.0\n",
      "step = 12600: loss = 965786.6875\n",
      "step = 12800: loss = 216914.59375\n",
      "step = 13000: loss = 5108500.0\n",
      "step = 13000: Average Return = 200.0\n",
      "step = 13200: loss = 7967889.0\n",
      "step = 13400: loss = 773374.6875\n",
      "step = 13600: loss = 5788166.0\n",
      "step = 13800: loss = 799403.75\n",
      "step = 14000: loss = 808231.25\n",
      "step = 14000: Average Return = 200.0\n",
      "step = 14200: loss = 9811614.0\n",
      "step = 14400: loss = 630086.3125\n",
      "step = 14600: loss = 968972.9375\n",
      "step = 14800: loss = 6353531.0\n",
      "step = 15000: loss = 1006724.0625\n",
      "step = 15000: Average Return = 200.0\n",
      "step = 15200: loss = 14414357.0\n",
      "step = 15400: loss = 961730.375\n",
      "step = 15600: loss = 8294566.5\n",
      "step = 15800: loss = 19771382.0\n",
      "step = 16000: loss = 1638861.375\n",
      "step = 16000: Average Return = 200.0\n",
      "step = 16200: loss = 2143983.0\n",
      "step = 16400: loss = 2281175.75\n",
      "step = 16600: loss = 2104470.75\n",
      "step = 16800: loss = 22948742.0\n",
      "step = 17000: loss = 51510868.0\n",
      "step = 17000: Average Return = 200.0\n",
      "step = 17200: loss = 2809934.5\n",
      "step = 17400: loss = 3025961.5\n",
      "step = 17600: loss = 4937689.0\n",
      "step = 17800: loss = 5663041.0\n",
      "step = 18000: loss = 3202678.0\n",
      "step = 18000: Average Return = 200.0\n",
      "step = 18200: loss = 4643006.5\n",
      "step = 18400: loss = 3881459.0\n",
      "step = 18600: loss = 6428623.0\n",
      "step = 18800: loss = 6480445.5\n",
      "step = 19000: loss = 6513895.5\n",
      "step = 19000: Average Return = 200.0\n",
      "step = 19200: loss = 3919553.75\n",
      "step = 19400: loss = 7190454.5\n",
      "step = 19600: loss = 5387853.5\n",
      "step = 19800: loss = 13713241.0\n",
      "step = 20000: loss = 8677320.0\n",
      "step = 20000: Average Return = 200.0\n"
     ]
    }
   ],
   "source": [
    "#@test {\"skip\": true}\n",
    "try:\n",
    "    %%time\n",
    "except:\n",
    "    pass\n",
    "\n",
    "# (Optional) Optimize by wrapping some of the code in a graph using TF function.\n",
    "agent.train = common.function(agent.train)\n",
    "\n",
    "# Reset the train step\n",
    "agent.train_step_counter.assign(0)\n",
    "\n",
    "# Evaluate the agent's policy once before training.\n",
    "avg_return = compute_avg_return(eval_env, agent.policy, num_eval_episodes)\n",
    "returns = [avg_return]\n",
    "\n",
    "for _ in range(num_iterations):\n",
    "\n",
    "  # Collect a few steps using collect_policy and save to the replay buffer.\n",
    "    collect_data(train_env, agent.collect_policy, replay_buffer, collect_steps_per_iteration)\n",
    "\n",
    "  # Sample a batch of data from the buffer and update the agent's network.\n",
    "    experience, unused_info = next(iterator)\n",
    "    train_loss = agent.train(experience).loss\n",
    "\n",
    "    step = agent.train_step_counter.numpy()\n",
    "\n",
    "    \n",
    "    \n",
    "# the below periodically prints the loss and average returns    \n",
    "    if step % log_interval == 0:\n",
    "        print('step = {0}: loss = {1}'.format(step, train_loss))\n",
    "\n",
    "    if step % eval_interval == 0:\n",
    "        avg_return = compute_avg_return(eval_env, agent.policy, num_eval_episodes)\n",
    "        print('step = {0}: Average Return = {1}'.format(step, avg_return))\n",
    "        returns.append(avg_return)"
   ]
  },
  {
   "cell_type": "code",
   "execution_count": 36,
   "id": "charged-grant",
   "metadata": {},
   "outputs": [],
   "source": [
    "### Visualizations"
   ]
  },
  {
   "cell_type": "code",
   "execution_count": 37,
   "id": "plastic-cutting",
   "metadata": {},
   "outputs": [
    {
     "data": {
      "text/plain": [
       "(3.2300004005432132, 250.0)"
      ]
     },
     "execution_count": 37,
     "metadata": {},
     "output_type": "execute_result"
    },
    {
     "data": {
      "image/png": "[encoded data removed]",
      "text/plain": [
       "<Figure size 432x288 with 1 Axes>"
      ]
     },
     "metadata": {
      "needs_background": "light"
     },
     "output_type": "display_data"
    }
   ],
   "source": [
    "#@test {\"skip\": true}\n",
    "\n",
    "iterations = range(0, num_iterations + 1, eval_interval)\n",
    "plt.plot(iterations, returns)\n",
    "plt.ylabel('Average Return')\n",
    "plt.xlabel('Iterations')\n",
    "plt.ylim(top=250)"
   ]
  },
  {
   "cell_type": "code",
   "execution_count": null,
   "id": "round-tampa",
   "metadata": {},
   "outputs": [],
   "source": []
  },
  {
   "cell_type": "code",
   "execution_count": 38,
   "id": "considered-lunch",
   "metadata": {},
   "outputs": [],
   "source": [
    "def embed_mp4(filename):\n",
    "    \"\"\"Embeds an mp4 file in the notebook.\"\"\"\n",
    "    # instantiates video (?)\n",
    "    video = open(filename,'rb').read()\n",
    "    # sets the encoder and encodes\n",
    "    b64 = base64.b64encode(video)\n",
    "    tag = '''\n",
    "        <video width=\"640\" height=\"480\" controls>\n",
    "        <source src=\"data:video/mp4;base64,{0}\" type=\"video/mp4\">\n",
    "        Your browser does not support the video tag.\n",
    "        </video>'''.format(b64.decode())\n",
    "\n",
    "    return IPython.display.HTML(tag)\n"
   ]
  },
  {
   "cell_type": "code",
   "execution_count": null,
   "id": "infectious-invention",
   "metadata": {},
   "outputs": [],
   "source": []
  },
  {
   "cell_type": "code",
   "execution_count": 39,
   "id": "technical-madrid",
   "metadata": {},
   "outputs": [
    {
     "name": "stderr",
     "output_type": "stream",
     "text": [
      "IMAGEIO FFMPEG_WRITER WARNING: input image is not divisible by macro_block_size=16, resizing from (600, 400) to (608, 400) to ensure video compatibility with most codecs and players. To prevent resizing, make your input image divisible by the macro_block_size or set the macro_block_size to 1 (risking incompatibility).\n"
     ]
    },
    {
     "data": {
      "text/html": [
       "\n",
       "        <video width=\"640\" height=\"480\" controls>\n",
       "        <source src=\"data:video/mp4;base64,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\" type=\"video/mp4\">\n",
       "        Your browser does not support the video tag.\n",
       "        </video>"
      ],
      "text/plain": [
       "<IPython.core.display.HTML object>"
      ]
     },
     "execution_count": 39,
     "metadata": {},
     "output_type": "execute_result"
    }
   ],
   "source": [
    "# \"Now iterate through a few episodes of the Cartpole game with the agent.\n",
    "# The underlying Python environment (the one \"inside\" the TensorFlow environment wrapper)\n",
    "# provides a render() method, which outputs an image of the environment state.\n",
    "# These can be collected into a video.\"\n",
    "\n",
    "def create_policy_eval_video(policy, filename, num_episodes=5, fps=30):\n",
    "  filename = filename + \".mp4\"\n",
    "  with imageio.get_writer(filename, fps=fps) as video:\n",
    "    for _ in range(num_episodes):\n",
    "      time_step = eval_env.reset()\n",
    "      video.append_data(eval_py_env.render())\n",
    "      while not time_step.is_last():\n",
    "        action_step = policy.action(time_step)\n",
    "        time_step = eval_env.step(action_step.action)\n",
    "        video.append_data(eval_py_env.render())\n",
    "  return embed_mp4(filename)\n",
    "\n",
    "\n",
    "\n",
    "\n",
    "create_policy_eval_video(agent.policy, \"trained-agent\")"
   ]
  },
  {
   "cell_type": "code",
   "execution_count": 40,
   "id": "automated-population",
   "metadata": {},
   "outputs": [
    {
     "name": "stderr",
     "output_type": "stream",
     "text": [
      "IMAGEIO FFMPEG_WRITER WARNING: input image is not divisible by macro_block_size=16, resizing from (600, 400) to (608, 400) to ensure video compatibility with most codecs and players. To prevent resizing, make your input image divisible by the macro_block_size or set the macro_block_size to 1 (risking incompatibility).\n"
     ]
    },
    {
     "data": {
      "text/html": [
       "\n",
       "        <video width=\"640\" height=\"480\" controls>\n",
       "        <source src=\"data:video/mp4;base64,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\" type=\"video/mp4\">\n",
       "        Your browser does not support the video tag.\n",
       "        </video>"
      ],
      "text/plain": [
       "<IPython.core.display.HTML object>"
      ]
     },
     "execution_count": 40,
     "metadata": {},
     "output_type": "execute_result"
    }
   ],
   "source": [
    "\n",
    "\n",
    "create_policy_eval_video(random_policy, \"random-agent\")\n"
   ]
  },
  {
   "cell_type": "code",
   "execution_count": null,
   "id": "developed-opening",
   "metadata": {},
   "outputs": [],
   "source": []
  },
  {
   "cell_type": "code",
   "execution_count": 4,
   "id": "atomic-stock",
   "metadata": {},
   "outputs": [],
   "source": [
    "import gym"
   ]
  },
  {
   "cell_type": "code",
   "execution_count": 10,
   "id": "fatty-ladder",
   "metadata": {},
   "outputs": [],
   "source": [
    "epsilon = 0.9\n",
    "min_epsilon = 0.01\n",
    "decay_rate = 0.9\n",
    "Total_episodes = 10000\n",
    "max_steps = 100\n",
    "learning_rate = 0.81\n",
    "gamma = 0.96\n",
    "env = gym.make('FrozenLake-v0')\n",
    "Q = np.zeros((env.observation_space.n, env.action_space.n))"
   ]
  },
  {
   "cell_type": "code",
   "execution_count": 11,
   "id": "wired-music",
   "metadata": {},
   "outputs": [],
   "source": [
    "def choose_action(observation):\n",
    "  return np.argmax(Q[observation, :])"
   ]
  },
  {
   "cell_type": "code",
   "execution_count": 12,
   "id": "minus-courtesy",
   "metadata": {},
   "outputs": [],
   "source": [
    "def choose_action(observation):\n",
    "  action = 0\n",
    "  if np.random.uniform(0, 1) < epsilon:\n",
    "    action = env.action_space.sample()\n",
    "  else:\n",
    "    action = np.argmax(Q[observation, :])\n",
    "  return action"
   ]
  },
  {
   "cell_type": "code",
   "execution_count": 13,
   "id": "toxic-ceremony",
   "metadata": {},
   "outputs": [],
   "source": [
    "def learn(observation, observation2, reward, action):\n",
    "  prediction = Q[observation, action]\n",
    "  target = reward + gamma * np.max(Q[observation2, :])\n",
    "  Q[observation, action] = Q[observation, action] + learning_rate * (target - prediction)"
   ]
  },
  {
   "cell_type": "code",
   "execution_count": null,
   "id": "encouraging-scotland",
   "metadata": {},
   "outputs": [],
   "source": [
    "for episode in range(Total_episodes):\n",
    "    obs = env.reset()\n",
    "    t = 0\n",
    "    if episode % 100 == 99:\n",
    "        epsilon *= decay_rate\n",
    "        epsilon = max(epsilon, min_epsilon)  \n",
    "    while t < max_steps:\n",
    "        action = choose_action(obs)\n",
    "        obs2, reward, done, info = env.step(action)\n",
    "        learn(obs, obs2, reward, action)\n",
    "        obs = obs2\n",
    "        t += 1\n",
    "        if done:\n",
    "            if reward > 0.0:\n",
    "                print(\"Win\")\n",
    "            else:\n",
    "                print(\"Lose\")\n",
    "            break"
   ]
  },
  {
   "cell_type": "code",
   "execution_count": 17,
   "id": "dress-fruit",
   "metadata": {},
   "outputs": [],
   "source": [
    "import gym \n",
    "import random"
   ]
  },
  {
   "cell_type": "code",
   "execution_count": null,
   "id": "motivated-dancing",
   "metadata": {},
   "outputs": [],
   "source": [
    "#run function\n",
    "#step function\n",
    "#render function\n",
    "#reset function\n",
    "class = ShowerEnv(Env):\n",
    "    # Possible actions\n",
    "    def __init__(self):\n",
    "        self.action_space = Discrete(3)\n",
    "        #tmp array\n",
    "        self.observation_space = Box(low=np.array([0]), high=np.array([100]))\n",
    "        #starting point\n",
    "        self.state = 38 + random.randint(-3,3)\n",
    "        #length\n",
    "        self.shower_length = 60\n",
    "    \n",
    "    # runs every time we take action\n",
    "    def step(self, action):\n",
    "        # applying action to state\n",
    "        self.state += action -1\n",
    "        # reduce length\n",
    "        self.shower_leng -= 1\n",
    "        \n",
    "        if self.state >= 1 \n",
    "    def render(self):\n",
    "        pass\n",
    "    def reset(self):\n",
    "        pass"
   ]
  },
  {
   "cell_type": "code",
   "execution_count": 15,
   "id": "italic-chest",
   "metadata": {},
   "outputs": [
    {
     "data": {
      "text/plain": [
       "2"
      ]
     },
     "execution_count": 15,
     "metadata": {},
     "output_type": "execute_result"
    }
   ],
   "source": [
    "env = gym.make('CartPole-v0')\n",
    "states = env.observation_space.shape[0]\n",
    "actions = env.action_space.n\n",
    "\n",
    "actions"
   ]
  },
  {
   "cell_type": "code",
   "execution_count": 16,
   "id": "treated-raise",
   "metadata": {},
   "outputs": [
    {
     "ename": "NoSuchDisplayException",
     "evalue": "Cannot connect to \"None\"",
     "output_type": "error",
     "traceback": [
      "\u001b[0;31m---------------------------------------------------------------------------\u001b[0m",
      "\u001b[0;31mNoSuchDisplayException\u001b[0m                    Traceback (most recent call last)",
      "\u001b[0;32m<ipython-input-16-fe0dcecf232b>\u001b[0m in \u001b[0;36m<module>\u001b[0;34m\u001b[0m\n\u001b[1;32m      6\u001b[0m \u001b[0;34m\u001b[0m\u001b[0m\n\u001b[1;32m      7\u001b[0m     \u001b[0;32mwhile\u001b[0m \u001b[0;32mnot\u001b[0m \u001b[0mdone\u001b[0m\u001b[0;34m:\u001b[0m\u001b[0;34m\u001b[0m\u001b[0;34m\u001b[0m\u001b[0m\n\u001b[0;32m----> 8\u001b[0;31m         \u001b[0menv\u001b[0m\u001b[0;34m.\u001b[0m\u001b[0mrender\u001b[0m\u001b[0;34m(\u001b[0m\u001b[0;34m)\u001b[0m\u001b[0;34m\u001b[0m\u001b[0;34m\u001b[0m\u001b[0m\n\u001b[0m\u001b[1;32m      9\u001b[0m         \u001b[0maction\u001b[0m \u001b[0;34m=\u001b[0m \u001b[0mrandom\u001b[0m\u001b[0;34m.\u001b[0m\u001b[0mchoice\u001b[0m\u001b[0;34m(\u001b[0m\u001b[0;34m[\u001b[0m\u001b[0;36m0\u001b[0m\u001b[0;34m,\u001b[0m\u001b[0;36m1\u001b[0m\u001b[0;34m]\u001b[0m\u001b[0;34m)\u001b[0m\u001b[0;34m\u001b[0m\u001b[0;34m\u001b[0m\u001b[0m\n\u001b[1;32m     10\u001b[0m         \u001b[0mn_state\u001b[0m\u001b[0;34m,\u001b[0m \u001b[0mreward\u001b[0m\u001b[0;34m,\u001b[0m \u001b[0mdone\u001b[0m\u001b[0;34m,\u001b[0m \u001b[0minfo\u001b[0m \u001b[0;34m=\u001b[0m \u001b[0menv\u001b[0m\u001b[0;34m.\u001b[0m\u001b[0mstep\u001b[0m\u001b[0;34m(\u001b[0m\u001b[0maction\u001b[0m\u001b[0;34m)\u001b[0m\u001b[0;34m\u001b[0m\u001b[0;34m\u001b[0m\u001b[0m\n",
      "\u001b[0;32m~/.local/lib/python3.8/site-packages/gym/core.py\u001b[0m in \u001b[0;36mrender\u001b[0;34m(self, mode, **kwargs)\u001b[0m\n\u001b[1;32m    231\u001b[0m \u001b[0;34m\u001b[0m\u001b[0m\n\u001b[1;32m    232\u001b[0m     \u001b[0;32mdef\u001b[0m \u001b[0mrender\u001b[0m\u001b[0;34m(\u001b[0m\u001b[0mself\u001b[0m\u001b[0;34m,\u001b[0m \u001b[0mmode\u001b[0m\u001b[0;34m=\u001b[0m\u001b[0;34m'human'\u001b[0m\u001b[0;34m,\u001b[0m \u001b[0;34m**\u001b[0m\u001b[0mkwargs\u001b[0m\u001b[0;34m)\u001b[0m\u001b[0;34m:\u001b[0m\u001b[0;34m\u001b[0m\u001b[0;34m\u001b[0m\u001b[0m\n\u001b[0;32m--> 233\u001b[0;31m         \u001b[0;32mreturn\u001b[0m \u001b[0mself\u001b[0m\u001b[0;34m.\u001b[0m\u001b[0menv\u001b[0m\u001b[0;34m.\u001b[0m\u001b[0mrender\u001b[0m\u001b[0;34m(\u001b[0m\u001b[0mmode\u001b[0m\u001b[0;34m,\u001b[0m \u001b[0;34m**\u001b[0m\u001b[0mkwargs\u001b[0m\u001b[0;34m)\u001b[0m\u001b[0;34m\u001b[0m\u001b[0;34m\u001b[0m\u001b[0m\n\u001b[0m\u001b[1;32m    234\u001b[0m \u001b[0;34m\u001b[0m\u001b[0m\n\u001b[1;32m    235\u001b[0m     \u001b[0;32mdef\u001b[0m \u001b[0mclose\u001b[0m\u001b[0;34m(\u001b[0m\u001b[0mself\u001b[0m\u001b[0;34m)\u001b[0m\u001b[0;34m:\u001b[0m\u001b[0;34m\u001b[0m\u001b[0;34m\u001b[0m\u001b[0m\n",
      "\u001b[0;32m~/.local/lib/python3.8/site-packages/gym/envs/classic_control/cartpole.py\u001b[0m in \u001b[0;36mrender\u001b[0;34m(self, mode)\u001b[0m\n\u001b[1;32m    172\u001b[0m \u001b[0;34m\u001b[0m\u001b[0m\n\u001b[1;32m    173\u001b[0m         \u001b[0;32mif\u001b[0m \u001b[0mself\u001b[0m\u001b[0;34m.\u001b[0m\u001b[0mviewer\u001b[0m \u001b[0;32mis\u001b[0m \u001b[0;32mNone\u001b[0m\u001b[0;34m:\u001b[0m\u001b[0;34m\u001b[0m\u001b[0;34m\u001b[0m\u001b[0m\n\u001b[0;32m--> 174\u001b[0;31m             \u001b[0;32mfrom\u001b[0m \u001b[0mgym\u001b[0m\u001b[0;34m.\u001b[0m\u001b[0menvs\u001b[0m\u001b[0;34m.\u001b[0m\u001b[0mclassic_control\u001b[0m \u001b[0;32mimport\u001b[0m \u001b[0mrendering\u001b[0m\u001b[0;34m\u001b[0m\u001b[0;34m\u001b[0m\u001b[0m\n\u001b[0m\u001b[1;32m    175\u001b[0m             \u001b[0mself\u001b[0m\u001b[0;34m.\u001b[0m\u001b[0mviewer\u001b[0m \u001b[0;34m=\u001b[0m \u001b[0mrendering\u001b[0m\u001b[0;34m.\u001b[0m\u001b[0mViewer\u001b[0m\u001b[0;34m(\u001b[0m\u001b[0mscreen_width\u001b[0m\u001b[0;34m,\u001b[0m \u001b[0mscreen_height\u001b[0m\u001b[0;34m)\u001b[0m\u001b[0;34m\u001b[0m\u001b[0;34m\u001b[0m\u001b[0m\n\u001b[1;32m    176\u001b[0m             \u001b[0ml\u001b[0m\u001b[0;34m,\u001b[0m \u001b[0mr\u001b[0m\u001b[0;34m,\u001b[0m \u001b[0mt\u001b[0m\u001b[0;34m,\u001b[0m \u001b[0mb\u001b[0m \u001b[0;34m=\u001b[0m \u001b[0;34m-\u001b[0m\u001b[0mcartwidth\u001b[0m \u001b[0;34m/\u001b[0m \u001b[0;36m2\u001b[0m\u001b[0;34m,\u001b[0m \u001b[0mcartwidth\u001b[0m \u001b[0;34m/\u001b[0m \u001b[0;36m2\u001b[0m\u001b[0;34m,\u001b[0m \u001b[0mcartheight\u001b[0m \u001b[0;34m/\u001b[0m \u001b[0;36m2\u001b[0m\u001b[0;34m,\u001b[0m \u001b[0;34m-\u001b[0m\u001b[0mcartheight\u001b[0m \u001b[0;34m/\u001b[0m \u001b[0;36m2\u001b[0m\u001b[0;34m\u001b[0m\u001b[0;34m\u001b[0m\u001b[0m\n",
      "\u001b[0;32m~/.local/lib/python3.8/site-packages/gym/envs/classic_control/rendering.py\u001b[0m in \u001b[0;36m<module>\u001b[0;34m\u001b[0m\n\u001b[1;32m     23\u001b[0m \u001b[0;34m\u001b[0m\u001b[0m\n\u001b[1;32m     24\u001b[0m \u001b[0;32mtry\u001b[0m\u001b[0;34m:\u001b[0m\u001b[0;34m\u001b[0m\u001b[0;34m\u001b[0m\u001b[0m\n\u001b[0;32m---> 25\u001b[0;31m     \u001b[0;32mfrom\u001b[0m \u001b[0mpyglet\u001b[0m\u001b[0;34m.\u001b[0m\u001b[0mgl\u001b[0m \u001b[0;32mimport\u001b[0m \u001b[0;34m*\u001b[0m\u001b[0;34m\u001b[0m\u001b[0;34m\u001b[0m\u001b[0m\n\u001b[0m\u001b[1;32m     26\u001b[0m \u001b[0;32mexcept\u001b[0m \u001b[0mImportError\u001b[0m \u001b[0;32mas\u001b[0m \u001b[0me\u001b[0m\u001b[0;34m:\u001b[0m\u001b[0;34m\u001b[0m\u001b[0;34m\u001b[0m\u001b[0m\n\u001b[1;32m     27\u001b[0m     raise ImportError('''\n",
      "\u001b[0;32m~/.local/lib/python3.8/site-packages/pyglet/gl/__init__.py\u001b[0m in \u001b[0;36m<module>\u001b[0;34m\u001b[0m\n\u001b[1;32m    242\u001b[0m     \u001b[0;31m# trickery is for circular import\u001b[0m\u001b[0;34m\u001b[0m\u001b[0;34m\u001b[0m\u001b[0;34m\u001b[0m\u001b[0m\n\u001b[1;32m    243\u001b[0m     \u001b[0m_pyglet\u001b[0m\u001b[0;34m.\u001b[0m\u001b[0mgl\u001b[0m \u001b[0;34m=\u001b[0m \u001b[0m_sys\u001b[0m\u001b[0;34m.\u001b[0m\u001b[0mmodules\u001b[0m\u001b[0;34m[\u001b[0m\u001b[0m__name__\u001b[0m\u001b[0;34m]\u001b[0m\u001b[0;34m\u001b[0m\u001b[0;34m\u001b[0m\u001b[0m\n\u001b[0;32m--> 244\u001b[0;31m     \u001b[0;32mimport\u001b[0m \u001b[0mpyglet\u001b[0m\u001b[0;34m.\u001b[0m\u001b[0mwindow\u001b[0m\u001b[0;34m\u001b[0m\u001b[0;34m\u001b[0m\u001b[0m\n\u001b[0m",
      "\u001b[0;32m~/.local/lib/python3.8/site-packages/pyglet/window/__init__.py\u001b[0m in \u001b[0;36m<module>\u001b[0;34m\u001b[0m\n\u001b[1;32m   1878\u001b[0m \u001b[0;32mif\u001b[0m \u001b[0;32mnot\u001b[0m \u001b[0m_is_pyglet_doc_run\u001b[0m\u001b[0;34m:\u001b[0m\u001b[0;34m\u001b[0m\u001b[0;34m\u001b[0m\u001b[0m\n\u001b[1;32m   1879\u001b[0m     \u001b[0mpyglet\u001b[0m\u001b[0;34m.\u001b[0m\u001b[0mwindow\u001b[0m \u001b[0;34m=\u001b[0m \u001b[0msys\u001b[0m\u001b[0;34m.\u001b[0m\u001b[0mmodules\u001b[0m\u001b[0;34m[\u001b[0m\u001b[0m__name__\u001b[0m\u001b[0;34m]\u001b[0m\u001b[0;34m\u001b[0m\u001b[0;34m\u001b[0m\u001b[0m\n\u001b[0;32m-> 1880\u001b[0;31m     \u001b[0mgl\u001b[0m\u001b[0;34m.\u001b[0m\u001b[0m_create_shadow_window\u001b[0m\u001b[0;34m(\u001b[0m\u001b[0;34m)\u001b[0m\u001b[0;34m\u001b[0m\u001b[0;34m\u001b[0m\u001b[0m\n\u001b[0m",
      "\u001b[0;32m~/.local/lib/python3.8/site-packages/pyglet/gl/__init__.py\u001b[0m in \u001b[0;36m_create_shadow_window\u001b[0;34m()\u001b[0m\n\u001b[1;32m    218\u001b[0m \u001b[0;34m\u001b[0m\u001b[0m\n\u001b[1;32m    219\u001b[0m     \u001b[0;32mfrom\u001b[0m \u001b[0mpyglet\u001b[0m\u001b[0;34m.\u001b[0m\u001b[0mwindow\u001b[0m \u001b[0;32mimport\u001b[0m \u001b[0mWindow\u001b[0m\u001b[0;34m\u001b[0m\u001b[0;34m\u001b[0m\u001b[0m\n\u001b[0;32m--> 220\u001b[0;31m     \u001b[0m_shadow_window\u001b[0m \u001b[0;34m=\u001b[0m \u001b[0mWindow\u001b[0m\u001b[0;34m(\u001b[0m\u001b[0mwidth\u001b[0m\u001b[0;34m=\u001b[0m\u001b[0;36m1\u001b[0m\u001b[0;34m,\u001b[0m \u001b[0mheight\u001b[0m\u001b[0;34m=\u001b[0m\u001b[0;36m1\u001b[0m\u001b[0;34m,\u001b[0m \u001b[0mvisible\u001b[0m\u001b[0;34m=\u001b[0m\u001b[0;32mFalse\u001b[0m\u001b[0;34m)\u001b[0m\u001b[0;34m\u001b[0m\u001b[0;34m\u001b[0m\u001b[0m\n\u001b[0m\u001b[1;32m    221\u001b[0m     \u001b[0m_shadow_window\u001b[0m\u001b[0;34m.\u001b[0m\u001b[0mswitch_to\u001b[0m\u001b[0;34m(\u001b[0m\u001b[0;34m)\u001b[0m\u001b[0;34m\u001b[0m\u001b[0;34m\u001b[0m\u001b[0m\n\u001b[1;32m    222\u001b[0m \u001b[0;34m\u001b[0m\u001b[0m\n",
      "\u001b[0;32m~/.local/lib/python3.8/site-packages/pyglet/window/xlib/__init__.py\u001b[0m in \u001b[0;36m__init__\u001b[0;34m(self, *args, **kwargs)\u001b[0m\n\u001b[1;32m    163\u001b[0m                     \u001b[0mself\u001b[0m\u001b[0;34m.\u001b[0m\u001b[0m_event_handlers\u001b[0m\u001b[0;34m[\u001b[0m\u001b[0mmessage\u001b[0m\u001b[0;34m]\u001b[0m \u001b[0;34m=\u001b[0m \u001b[0mfunc\u001b[0m\u001b[0;34m\u001b[0m\u001b[0;34m\u001b[0m\u001b[0m\n\u001b[1;32m    164\u001b[0m \u001b[0;34m\u001b[0m\u001b[0m\n\u001b[0;32m--> 165\u001b[0;31m         \u001b[0msuper\u001b[0m\u001b[0;34m(\u001b[0m\u001b[0mXlibWindow\u001b[0m\u001b[0;34m,\u001b[0m \u001b[0mself\u001b[0m\u001b[0;34m)\u001b[0m\u001b[0;34m.\u001b[0m\u001b[0m__init__\u001b[0m\u001b[0;34m(\u001b[0m\u001b[0;34m*\u001b[0m\u001b[0margs\u001b[0m\u001b[0;34m,\u001b[0m \u001b[0;34m**\u001b[0m\u001b[0mkwargs\u001b[0m\u001b[0;34m)\u001b[0m\u001b[0;34m\u001b[0m\u001b[0;34m\u001b[0m\u001b[0m\n\u001b[0m\u001b[1;32m    166\u001b[0m \u001b[0;34m\u001b[0m\u001b[0m\n\u001b[1;32m    167\u001b[0m         \u001b[0;32mglobal\u001b[0m \u001b[0m_can_detect_autorepeat\u001b[0m\u001b[0;34m\u001b[0m\u001b[0;34m\u001b[0m\u001b[0m\n",
      "\u001b[0;32m~/.local/lib/python3.8/site-packages/pyglet/window/__init__.py\u001b[0m in \u001b[0;36m__init__\u001b[0;34m(self, width, height, caption, resizable, style, fullscreen, visible, vsync, display, screen, config, context, mode)\u001b[0m\n\u001b[1;32m    568\u001b[0m \u001b[0;34m\u001b[0m\u001b[0m\n\u001b[1;32m    569\u001b[0m         \u001b[0;32mif\u001b[0m \u001b[0;32mnot\u001b[0m \u001b[0mdisplay\u001b[0m\u001b[0;34m:\u001b[0m\u001b[0;34m\u001b[0m\u001b[0;34m\u001b[0m\u001b[0m\n\u001b[0;32m--> 570\u001b[0;31m             \u001b[0mdisplay\u001b[0m \u001b[0;34m=\u001b[0m \u001b[0mpyglet\u001b[0m\u001b[0;34m.\u001b[0m\u001b[0mcanvas\u001b[0m\u001b[0;34m.\u001b[0m\u001b[0mget_display\u001b[0m\u001b[0;34m(\u001b[0m\u001b[0;34m)\u001b[0m\u001b[0;34m\u001b[0m\u001b[0;34m\u001b[0m\u001b[0m\n\u001b[0m\u001b[1;32m    571\u001b[0m \u001b[0;34m\u001b[0m\u001b[0m\n\u001b[1;32m    572\u001b[0m         \u001b[0;32mif\u001b[0m \u001b[0;32mnot\u001b[0m \u001b[0mscreen\u001b[0m\u001b[0;34m:\u001b[0m\u001b[0;34m\u001b[0m\u001b[0;34m\u001b[0m\u001b[0m\n",
      "\u001b[0;32m~/.local/lib/python3.8/site-packages/pyglet/canvas/__init__.py\u001b[0m in \u001b[0;36mget_display\u001b[0;34m()\u001b[0m\n\u001b[1;32m     92\u001b[0m \u001b[0;34m\u001b[0m\u001b[0m\n\u001b[1;32m     93\u001b[0m     \u001b[0;31m# Otherwise, create a new display and return it.\u001b[0m\u001b[0;34m\u001b[0m\u001b[0;34m\u001b[0m\u001b[0;34m\u001b[0m\u001b[0m\n\u001b[0;32m---> 94\u001b[0;31m     \u001b[0;32mreturn\u001b[0m \u001b[0mDisplay\u001b[0m\u001b[0;34m(\u001b[0m\u001b[0;34m)\u001b[0m\u001b[0;34m\u001b[0m\u001b[0;34m\u001b[0m\u001b[0m\n\u001b[0m\u001b[1;32m     95\u001b[0m \u001b[0;34m\u001b[0m\u001b[0m\n\u001b[1;32m     96\u001b[0m \u001b[0;34m\u001b[0m\u001b[0m\n",
      "\u001b[0;32m~/.local/lib/python3.8/site-packages/pyglet/canvas/xlib.py\u001b[0m in \u001b[0;36m__init__\u001b[0;34m(self, name, x_screen)\u001b[0m\n\u001b[1;32m    121\u001b[0m         \u001b[0mself\u001b[0m\u001b[0;34m.\u001b[0m\u001b[0m_display\u001b[0m \u001b[0;34m=\u001b[0m \u001b[0mxlib\u001b[0m\u001b[0;34m.\u001b[0m\u001b[0mXOpenDisplay\u001b[0m\u001b[0;34m(\u001b[0m\u001b[0mname\u001b[0m\u001b[0;34m)\u001b[0m\u001b[0;34m\u001b[0m\u001b[0;34m\u001b[0m\u001b[0m\n\u001b[1;32m    122\u001b[0m         \u001b[0;32mif\u001b[0m \u001b[0;32mnot\u001b[0m \u001b[0mself\u001b[0m\u001b[0;34m.\u001b[0m\u001b[0m_display\u001b[0m\u001b[0;34m:\u001b[0m\u001b[0;34m\u001b[0m\u001b[0;34m\u001b[0m\u001b[0m\n\u001b[0;32m--> 123\u001b[0;31m             \u001b[0;32mraise\u001b[0m \u001b[0mNoSuchDisplayException\u001b[0m\u001b[0;34m(\u001b[0m\u001b[0;34m'Cannot connect to \"%s\"'\u001b[0m \u001b[0;34m%\u001b[0m \u001b[0mname\u001b[0m\u001b[0;34m)\u001b[0m\u001b[0;34m\u001b[0m\u001b[0;34m\u001b[0m\u001b[0m\n\u001b[0m\u001b[1;32m    124\u001b[0m \u001b[0;34m\u001b[0m\u001b[0m\n\u001b[1;32m    125\u001b[0m         \u001b[0mscreen_count\u001b[0m \u001b[0;34m=\u001b[0m \u001b[0mxlib\u001b[0m\u001b[0;34m.\u001b[0m\u001b[0mXScreenCount\u001b[0m\u001b[0;34m(\u001b[0m\u001b[0mself\u001b[0m\u001b[0;34m.\u001b[0m\u001b[0m_display\u001b[0m\u001b[0;34m)\u001b[0m\u001b[0;34m\u001b[0m\u001b[0;34m\u001b[0m\u001b[0m\n",
      "\u001b[0;31mNoSuchDisplayException\u001b[0m: Cannot connect to \"None\""
     ]
    }
   ],
   "source": [
    "\n",
    "\n",
    "episodes = 10\n",
    "for episode in range(1, episodes+1):\n",
    "    state = env.reset()\n",
    "    done = False\n",
    "    score = 0 \n",
    "    \n",
    "    while not done:\n",
    "        env.render()\n",
    "        action = random.choice([0,1])\n",
    "        n_state, reward, done, info = env.step(action)\n",
    "        score+=reward\n",
    "    print('Episode:{} Score:{}'.format(episode, score))\n",
    "\n"
   ]
  },
  {
   "cell_type": "code",
   "execution_count": null,
   "id": "prescribed-concert",
   "metadata": {},
   "outputs": [],
   "source": []
  },
  {
   "cell_type": "code",
   "execution_count": null,
   "id": "owned-terminal",
   "metadata": {},
   "outputs": [],
   "source": [
    "import numpy as np\n",
    "import gym\n",
    "import random\n",
    "import time\n",
    "from IPython.display import"
   ]
  }
 ],
 "metadata": {
  "kernelspec": {
   "display_name": "Python 3",
   "language": "python",
   "name": "python3"
  },
  "language_info": {
   "codemirror_mode": {
    "name": "ipython",
    "version": 3
   },
   "file_extension": ".py",
   "mimetype": "text/x-python",
   "name": "python",
   "nbconvert_exporter": "python",
   "pygments_lexer": "ipython3",
   "version": "3.8.5"
  }
 },
 "nbformat": 4,
 "nbformat_minor": 5
}
