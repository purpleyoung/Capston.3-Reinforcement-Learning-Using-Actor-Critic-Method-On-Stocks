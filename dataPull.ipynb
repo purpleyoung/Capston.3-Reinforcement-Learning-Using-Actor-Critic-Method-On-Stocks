{
 "cells": [
  {
   "cell_type": "code",
   "execution_count": 1,
   "id": "sacred-going",
   "metadata": {},
   "outputs": [],
   "source": [
    "# core imports\n",
    "from datetime import datetime\n",
    "import numpy as np\n",
    "import pandas as pd\n",
    "from time import sleep\n",
    "\n",
    "\n",
    "# Aplhavantage\n",
    "from alpha_vantage.techindicators import TechIndicators\n",
    "from alpha_vantage.timeseries import TimeSeries\n"
   ]
  },
  {
   "cell_type": "code",
   "execution_count": 2,
   "id": "hourly-guest",
   "metadata": {},
   "outputs": [],
   "source": [
    "tickers = ['AAPL','ACN','ADBE','ADI','ADP','ADSK','AKAM','AMAT','AMD','ANET','ANSS','APH','AVGO','BR','CDNS','CDW','CRM','CSCO','CTSH','CTXS','DXC','ENPH','FFIV','FIS','FISV','FLIR','FLT','FTNT','GLW','GPN','HPE','HPQ','IBM','INTC','INTU','IPGP','IT','JKHY','JNPR','KEYS','KLAC','LRCX','MA','MCHP','MPWR','MSFT','MSI','MU','MXIM','NLOK','NOW','NTAP','NVDA','NXPI','ORCL','PAYC','PAYX','PYPL','QCOM','QRVO','SNPS','STX','SWKS','TEL','TER','TRMB','TXN','TYL','V','VRSN','WDC','WU','XLNX','ZBRA']"
   ]
  },
  {
   "cell_type": "code",
   "execution_count": 3,
   "id": "diverse-agreement",
   "metadata": {},
   "outputs": [],
   "source": [
    "#@application.route('/', methods=[\"POST\",\"GET\"])\n",
    "def API(ticker):\n",
    "    API_key = 'CSMN0LYTQ5UYMVUT'\n",
    "    API_URL = \"https://www.alphavantage.co/query\"\n",
    "    \n",
    "    \n",
    "    ts = TimeSeries(key=API_key, output_format='pandas')\n",
    "\n",
    "    price = ts.get_daily_adjusted(ticker, outputsize='full')[0]\n",
    "    \n",
    "    \n",
    "    \n",
    "    request = TechIndicators(key=API_key, output_format='pandas')\n",
    "    \n",
    "    macd, meta_data = request.get_macd(symbol=ticker,interval='daily')\n",
    "    bbands, meta_data = request.get_bbands(symbol=ticker,interval='daily')\n",
    "    rsi,meta_data = request.get_rsi(symbol=ticker,interval='daily',time_period=15)\n",
    "    sma5, meta_data = request.get_sma(symbol=ticker,time_period=5)\n",
    "    sma15, meta_data = request.get_sma(symbol=ticker,time_period=15)\n",
    "    roc, meta_data = request.get_roc(symbol=ticker,series_type='high',interval='daily')\n",
    "    cci, meta_data = request.get_cci(symbol=ticker,time_period=60,interval='daily')\n",
    "    dx, meta_data = request.get_dx(symbol=ticker,time_period=60,interval='daily')\n",
    "    \n",
    "    data = pd.concat([price, macd, bbands, rsi, sma5, sma15, roc, cci, dx], axis=1)\n",
    "    data = data.dropna()\n",
    "    data['ticker'] = ticker\n",
    "    sleep(7)\n",
    "    return data\n",
    "    \n",
    "    \n",
    "    \n",
    "    \n",
    "    "
   ]
  },
  {
   "cell_type": "code",
   "execution_count": 4,
   "id": "indonesian-charm",
   "metadata": {},
   "outputs": [],
   "source": [
    "def crossover(data):\n",
    "    data['crossover'] = data['MACD'] > data['MACD_Signal']\n",
    "    return data\n",
    "def cutoff(data):\n",
    "    return data[data.index>=datetime(2015, 1, 1)]\n",
    "def dropcols(data):\n",
    "    data = data.drop(columns=['4. close', '7. dividend amount', '8. split coefficient'])\n",
    "    return data\n",
    "def feature_names(data):\n",
    "    data = data.rename(columns={'1. open':'open', '2. high':'high', '3. low':'low', '5. adjusted close':'adjc', '6. volume':'vol'})\n",
    "    return data"
   ]
  },
  {
   "cell_type": "code",
   "execution_count": 5,
   "id": "improving-fossil",
   "metadata": {},
   "outputs": [],
   "source": [
    "def preprocess_data():\n",
    "    lst = []\n",
    "    for ticker in tickers:\n",
    "        data = API(ticker)\n",
    "        data = crossover(data)\n",
    "        data = cutoff(data)\n",
    "        data = dropcols(data)\n",
    "        data.fillna(method='bfill',inplace=True)\n",
    "        data = feature_names(data)\n",
    "        data = data.reset_index()\n",
    "        lst.append(data)\n",
    "        sleep(7)\n",
    "    df = pd.concat(lst)\n",
    "    \n",
    "    return df"
   ]
  },
  {
   "cell_type": "code",
   "execution_count": null,
   "id": "automated-sally",
   "metadata": {},
   "outputs": [],
   "source": [
    "z = preprocess_data()"
   ]
  },
  {
   "cell_type": "code",
   "execution_count": null,
   "id": "paperback-folks",
   "metadata": {},
   "outputs": [],
   "source": [
    "z"
   ]
  },
  {
   "cell_type": "code",
   "execution_count": null,
   "id": "painted-interpretation",
   "metadata": {},
   "outputs": [],
   "source": [
    "z.to_csv(f'data/D_techT.csv', index=True)\n",
    "z.to_csv(f'data/D_techF.csv', index=False)"
   ]
  },
  {
   "cell_type": "code",
   "execution_count": null,
   "id": "opening-savage",
   "metadata": {},
   "outputs": [],
   "source": []
  },
  {
   "cell_type": "code",
   "execution_count": null,
   "id": "ecological-saudi",
   "metadata": {},
   "outputs": [],
   "source": []
  },
  {
   "cell_type": "code",
   "execution_count": null,
   "id": "blessed-booking",
   "metadata": {},
   "outputs": [],
   "source": []
  },
  {
   "cell_type": "code",
   "execution_count": null,
   "id": "moderate-accounting",
   "metadata": {},
   "outputs": [],
   "source": []
  },
  {
   "cell_type": "code",
   "execution_count": null,
   "id": "passive-fleet",
   "metadata": {},
   "outputs": [],
   "source": []
  },
  {
   "cell_type": "code",
   "execution_count": null,
   "id": "taken-investigation",
   "metadata": {},
   "outputs": [],
   "source": []
  },
  {
   "cell_type": "code",
   "execution_count": null,
   "id": "scientific-anderson",
   "metadata": {},
   "outputs": [],
   "source": []
  },
  {
   "cell_type": "code",
   "execution_count": null,
   "id": "virtual-carrier",
   "metadata": {},
   "outputs": [],
   "source": []
  },
  {
   "cell_type": "code",
   "execution_count": null,
   "id": "cosmetic-project",
   "metadata": {},
   "outputs": [],
   "source": []
  },
  {
   "cell_type": "code",
   "execution_count": null,
   "id": "multiple-summit",
   "metadata": {},
   "outputs": [],
   "source": []
  },
  {
   "cell_type": "code",
   "execution_count": null,
   "id": "searching-arkansas",
   "metadata": {},
   "outputs": [],
   "source": []
  },
  {
   "cell_type": "code",
   "execution_count": null,
   "id": "sufficient-devon",
   "metadata": {},
   "outputs": [],
   "source": []
  },
  {
   "cell_type": "code",
   "execution_count": null,
   "id": "municipal-casino",
   "metadata": {},
   "outputs": [],
   "source": []
  },
  {
   "cell_type": "code",
   "execution_count": null,
   "id": "arabic-celebration",
   "metadata": {},
   "outputs": [],
   "source": []
  }
 ],
 "metadata": {
  "kernelspec": {
   "display_name": "Python 3",
   "language": "python",
   "name": "python3"
  },
  "language_info": {
   "codemirror_mode": {
    "name": "ipython",
    "version": 3
   },
   "file_extension": ".py",
   "mimetype": "text/x-python",
   "name": "python",
   "nbconvert_exporter": "python",
   "pygments_lexer": "ipython3",
   "version": "3.8.8"
  }
 },
 "nbformat": 4,
 "nbformat_minor": 5
}
